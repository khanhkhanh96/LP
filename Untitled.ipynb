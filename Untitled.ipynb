{
 "cells": [
  {
   "cell_type": "code",
   "execution_count": 1,
   "id": "70537098",
   "metadata": {},
   "outputs": [],
   "source": [
    "import pandas as pd\n",
    "import numpy as np"
   ]
  },
  {
   "cell_type": "code",
   "execution_count": 2,
   "id": "d0fefae3",
   "metadata": {},
   "outputs": [],
   "source": [
    "import random\n",
    "\n",
    "task_name = [f'T{i}' for i in range(170)]\n",
    "task_time = [np.random.choice([0.25,0.5,0.66,0.91]) for _ in range(170)]\n",
    "task_type = [random.randint(1,5) for _ in range(170)]\n",
    "task_cnt = [random.randint(1,500) for _ in range(170)]"
   ]
  },
  {
   "cell_type": "code",
   "execution_count": null,
   "id": "b48dbfb3",
   "metadata": {},
   "outputs": [],
   "source": []
  },
  {
   "cell_type": "code",
   "execution_count": 3,
   "id": "86803995",
   "metadata": {},
   "outputs": [],
   "source": [
    "task_df = pd.DataFrame([task_name,task_time,task_type,task_cnt])"
   ]
  },
  {
   "cell_type": "code",
   "execution_count": 4,
   "id": "a6cada21",
   "metadata": {},
   "outputs": [],
   "source": [
    "task_df = task_df.T"
   ]
  },
  {
   "cell_type": "code",
   "execution_count": 5,
   "id": "dfdd84d6",
   "metadata": {},
   "outputs": [],
   "source": [
    "task_df = task_df.rename(columns={i:x for i,x in enumerate(['task_name',\n",
    "                                                            'task_time','task_type','task_cnt'])})"
   ]
  },
  {
   "cell_type": "code",
   "execution_count": 6,
   "id": "af7fe229",
   "metadata": {},
   "outputs": [
    {
     "data": {
      "text/plain": [
       "100.5099999999998"
      ]
     },
     "execution_count": 6,
     "metadata": {},
     "output_type": "execute_result"
    }
   ],
   "source": [
    "task_df['task_time'].sum()"
   ]
  },
  {
   "cell_type": "code",
   "execution_count": 7,
   "id": "4c1fcb2b",
   "metadata": {},
   "outputs": [
    {
     "data": {
      "text/html": [
       "<div>\n",
       "<style scoped>\n",
       "    .dataframe tbody tr th:only-of-type {\n",
       "        vertical-align: middle;\n",
       "    }\n",
       "\n",
       "    .dataframe tbody tr th {\n",
       "        vertical-align: top;\n",
       "    }\n",
       "\n",
       "    .dataframe thead th {\n",
       "        text-align: right;\n",
       "    }\n",
       "</style>\n",
       "<table border=\"1\" class=\"dataframe\">\n",
       "  <thead>\n",
       "    <tr style=\"text-align: right;\">\n",
       "      <th></th>\n",
       "      <th>task_name</th>\n",
       "      <th>task_time</th>\n",
       "      <th>task_type</th>\n",
       "      <th>task_cnt</th>\n",
       "    </tr>\n",
       "  </thead>\n",
       "  <tbody>\n",
       "    <tr>\n",
       "      <th>0</th>\n",
       "      <td>T0</td>\n",
       "      <td>0.66</td>\n",
       "      <td>4</td>\n",
       "      <td>411</td>\n",
       "    </tr>\n",
       "    <tr>\n",
       "      <th>1</th>\n",
       "      <td>T1</td>\n",
       "      <td>0.91</td>\n",
       "      <td>4</td>\n",
       "      <td>495</td>\n",
       "    </tr>\n",
       "    <tr>\n",
       "      <th>2</th>\n",
       "      <td>T2</td>\n",
       "      <td>0.25</td>\n",
       "      <td>3</td>\n",
       "      <td>333</td>\n",
       "    </tr>\n",
       "    <tr>\n",
       "      <th>3</th>\n",
       "      <td>T3</td>\n",
       "      <td>0.25</td>\n",
       "      <td>1</td>\n",
       "      <td>63</td>\n",
       "    </tr>\n",
       "    <tr>\n",
       "      <th>4</th>\n",
       "      <td>T4</td>\n",
       "      <td>0.5</td>\n",
       "      <td>2</td>\n",
       "      <td>297</td>\n",
       "    </tr>\n",
       "  </tbody>\n",
       "</table>\n",
       "</div>"
      ],
      "text/plain": [
       "  task_name task_time task_type task_cnt\n",
       "0        T0      0.66         4      411\n",
       "1        T1      0.91         4      495\n",
       "2        T2      0.25         3      333\n",
       "3        T3      0.25         1       63\n",
       "4        T4       0.5         2      297"
      ]
     },
     "execution_count": 7,
     "metadata": {},
     "output_type": "execute_result"
    }
   ],
   "source": [
    "task_df.head()"
   ]
  },
  {
   "cell_type": "code",
   "execution_count": 8,
   "id": "6647990b",
   "metadata": {},
   "outputs": [
    {
     "data": {
      "text/plain": [
       "task_name    0\n",
       "task_time    0\n",
       "task_type    0\n",
       "task_cnt     0\n",
       "dtype: int64"
      ]
     },
     "execution_count": 8,
     "metadata": {},
     "output_type": "execute_result"
    }
   ],
   "source": [
    "task_df.isna().sum()"
   ]
  },
  {
   "cell_type": "code",
   "execution_count": 9,
   "id": "8042f3fa",
   "metadata": {},
   "outputs": [],
   "source": [
    "worker = [f'W{i}' for i in range(5)]\n",
    "worker_time = [task_df['task_time'].sum()/5]*5\n",
    "#worker_task_type = [np.random.choice([1,2,3],size=2).tolist() for _ in range(5)]\n",
    "worker_task_type = [[1,2,3,4,5] for _ in range(5)]"
   ]
  },
  {
   "cell_type": "code",
   "execution_count": 10,
   "id": "cc10d308",
   "metadata": {},
   "outputs": [
    {
     "data": {
      "text/plain": [
       "[20.10199999999996,\n",
       " 20.10199999999996,\n",
       " 20.10199999999996,\n",
       " 20.10199999999996,\n",
       " 20.10199999999996]"
      ]
     },
     "execution_count": 10,
     "metadata": {},
     "output_type": "execute_result"
    }
   ],
   "source": [
    "worker_time"
   ]
  },
  {
   "cell_type": "code",
   "execution_count": 11,
   "id": "ae54c2a7",
   "metadata": {},
   "outputs": [],
   "source": [
    "random.seed(1212)\n",
    "\n",
    "mean = task_df['task_time'].sum()/5\n",
    "for i in range(int(len(worker_time)/2)):\n",
    "    sub_time = random.randint(1,5)\n",
    "    worker_time[i*2] = mean - sub_time\n",
    "    worker_time[i*2+1] = mean + sub_time\n",
    "    "
   ]
  },
  {
   "cell_type": "code",
   "execution_count": 12,
   "id": "2665f740",
   "metadata": {},
   "outputs": [
    {
     "data": {
      "text/plain": [
       "[17.10199999999996,\n",
       " 23.10199999999996,\n",
       " 17.10199999999996,\n",
       " 23.10199999999996,\n",
       " 20.10199999999996]"
      ]
     },
     "execution_count": 12,
     "metadata": {},
     "output_type": "execute_result"
    }
   ],
   "source": [
    "worker_time"
   ]
  },
  {
   "cell_type": "code",
   "execution_count": 13,
   "id": "db616b60",
   "metadata": {},
   "outputs": [
    {
     "data": {
      "text/plain": [
       "100.5099999999998"
      ]
     },
     "execution_count": 13,
     "metadata": {},
     "output_type": "execute_result"
    }
   ],
   "source": [
    "sum(worker_time)"
   ]
  },
  {
   "cell_type": "code",
   "execution_count": 14,
   "id": "64c0949a",
   "metadata": {},
   "outputs": [],
   "source": [
    "worker_df = pd.DataFrame(data = {'worker': worker, 'worker_time':worker_time,'worker_task_type':worker_task_type})"
   ]
  },
  {
   "cell_type": "code",
   "execution_count": 15,
   "id": "e2919a79",
   "metadata": {},
   "outputs": [
    {
     "data": {
      "text/html": [
       "<div>\n",
       "<style scoped>\n",
       "    .dataframe tbody tr th:only-of-type {\n",
       "        vertical-align: middle;\n",
       "    }\n",
       "\n",
       "    .dataframe tbody tr th {\n",
       "        vertical-align: top;\n",
       "    }\n",
       "\n",
       "    .dataframe thead th {\n",
       "        text-align: right;\n",
       "    }\n",
       "</style>\n",
       "<table border=\"1\" class=\"dataframe\">\n",
       "  <thead>\n",
       "    <tr style=\"text-align: right;\">\n",
       "      <th></th>\n",
       "      <th>worker</th>\n",
       "      <th>worker_time</th>\n",
       "      <th>worker_task_type</th>\n",
       "    </tr>\n",
       "  </thead>\n",
       "  <tbody>\n",
       "    <tr>\n",
       "      <th>0</th>\n",
       "      <td>W0</td>\n",
       "      <td>17.102</td>\n",
       "      <td>[1, 2, 3, 4, 5]</td>\n",
       "    </tr>\n",
       "    <tr>\n",
       "      <th>1</th>\n",
       "      <td>W1</td>\n",
       "      <td>23.102</td>\n",
       "      <td>[1, 2, 3, 4, 5]</td>\n",
       "    </tr>\n",
       "    <tr>\n",
       "      <th>2</th>\n",
       "      <td>W2</td>\n",
       "      <td>17.102</td>\n",
       "      <td>[1, 2, 3, 4, 5]</td>\n",
       "    </tr>\n",
       "    <tr>\n",
       "      <th>3</th>\n",
       "      <td>W3</td>\n",
       "      <td>23.102</td>\n",
       "      <td>[1, 2, 3, 4, 5]</td>\n",
       "    </tr>\n",
       "    <tr>\n",
       "      <th>4</th>\n",
       "      <td>W4</td>\n",
       "      <td>20.102</td>\n",
       "      <td>[1, 2, 3, 4, 5]</td>\n",
       "    </tr>\n",
       "  </tbody>\n",
       "</table>\n",
       "</div>"
      ],
      "text/plain": [
       "  worker  worker_time worker_task_type\n",
       "0     W0       17.102  [1, 2, 3, 4, 5]\n",
       "1     W1       23.102  [1, 2, 3, 4, 5]\n",
       "2     W2       17.102  [1, 2, 3, 4, 5]\n",
       "3     W3       23.102  [1, 2, 3, 4, 5]\n",
       "4     W4       20.102  [1, 2, 3, 4, 5]"
      ]
     },
     "execution_count": 15,
     "metadata": {},
     "output_type": "execute_result"
    }
   ],
   "source": [
    "worker_df"
   ]
  },
  {
   "cell_type": "code",
   "execution_count": 16,
   "id": "6f72895c",
   "metadata": {},
   "outputs": [],
   "source": [
    "for i in range(worker_df.shape[0]):\n",
    "    cur_rows = worker_df.iloc[i]\n",
    "    cur_name, cur_time, cur_task = cur_rows.values\n",
    "    pos_task = []\n",
    "    for task_type in cur_task:\n",
    "        pos_task.extend(task_df[task_df['task_type']==task_type]['task_name'].tolist())\n",
    "    \n",
    "#     print(list(set(pos_task)))/"
   ]
  },
  {
   "cell_type": "code",
   "execution_count": 17,
   "id": "9699dbd1",
   "metadata": {},
   "outputs": [],
   "source": [
    "def get_worker_pos_task():\n",
    "    ret = {}\n",
    "    for i in range(worker_df.shape[0]):\n",
    "        cur_rows = worker_df.iloc[i]\n",
    "        cur_name, cur_time, cur_task = cur_rows.values\n",
    "        pos_task = []\n",
    "        for task_type in cur_task:\n",
    "            pos_task.extend(task_df[task_df['task_type']==task_type]['task_name'].tolist())\n",
    "        ret[cur_name] = list(set(pos_task))\n",
    "    return ret"
   ]
  },
  {
   "cell_type": "code",
   "execution_count": 18,
   "id": "79069275",
   "metadata": {},
   "outputs": [
    {
     "data": {
      "text/plain": [
       "420.45567605213495"
      ]
     },
     "execution_count": 18,
     "metadata": {},
     "output_type": "execute_result"
    }
   ],
   "source": [
    "avg_task = task_df['task_cnt'].sum()/worker_df['worker_time'].sum()\n",
    "avg_task"
   ]
  },
  {
   "cell_type": "code",
   "execution_count": 19,
   "id": "c0c55053",
   "metadata": {},
   "outputs": [
    {
     "data": {
      "text/plain": [
       "42260"
      ]
     },
     "execution_count": 19,
     "metadata": {},
     "output_type": "execute_result"
    }
   ],
   "source": [
    "task_df['task_cnt'].sum()"
   ]
  },
  {
   "cell_type": "code",
   "execution_count": 26,
   "id": "b622d3e9",
   "metadata": {},
   "outputs": [
    {
     "name": "stderr",
     "output_type": "stream",
     "text": [
      "/opt/anaconda3/envs/lp_env/lib/python3.6/site-packages/ipykernel_launcher.py:73: DeprecationWarning: 'indexs' is deprecated; use 'indices'.\n"
     ]
    },
    {
     "name": "stdout",
     "output_type": "stream",
     "text": [
      "worker\n",
      "W0    17.08\n",
      "W1    23.20\n",
      "W2    16.90\n",
      "W3    23.29\n",
      "W4    20.04\n",
      "Name: task_time, dtype: float64\n",
      "worker\n",
      "W0    7185\n",
      "W1    9720\n",
      "W2    7193\n",
      "W3    9715\n",
      "W4    8447\n",
      "Name: task_cnt, dtype: int64\n"
     ]
    }
   ],
   "source": [
    "from pulp import *\n",
    "from random import choice, sample\n",
    "\n",
    "### CREATING DATA\n",
    "\n",
    "# Setting parameters\n",
    "\n",
    "tasks = task_df['task_name'].tolist()\n",
    "\n",
    "# Each task is labelled with a number 1 - 3 that indicates estimated time taken to complete\n",
    "task_time = dict(zip(tasks, task_df['task_time'].tolist()))\n",
    "\n",
    "task_cnt = dict(zip(tasks, task_df['task_cnt'].tolist()))\n",
    "\n",
    "volunteers = worker_df['worker'].tolist()\n",
    "\n",
    "volunteers_time = dict(zip(worker_df['worker'].tolist(),\n",
    "                           worker_df['worker_time'].tolist()))\n",
    "\n",
    "# Each volunteer is asked to choose 7 tasks to be assigned\n",
    "# volunteer_choices = dict(zip(volunteers, [list(sample(tasks, k=7)) for i in range(num_volunteers)]))\n",
    "volunteer_choices = get_worker_pos_task()\n",
    "\n",
    "task_types = task_df['task_type'].unique().tolist()\n",
    "\n",
    "# Each volunteer can choose to take between 1 - 3 tasks\n",
    "# volunteer_max_tasks = dict(zip(volunteers, [choice([1, 2, 3]) for i in range(num_volunteers)]))\n",
    "volunteer_max_tasks = dict(zip(worker_df['worker'].tolist(), worker_df['worker_time'].tolist()))\n",
    "\n",
    "\n",
    "\n",
    "### DEFINING MODEL\n",
    "\n",
    "# Define model\n",
    "model = LpProblem(name = \"resource-allocation\", sense = LpMinimize)\n",
    "\n",
    "# Define decision pair\n",
    "pair = LpVariable.dicts(\"Pair\", (volunteers, tasks), cat=LpBinary)  # no need for upper/lower bound for binary. :)\n",
    "\n",
    "task_covered = LpVariable.dicts(\"Covered\", tasks, cat=LpBinary)\n",
    "\n",
    "# Set list of all possible pairs\n",
    "pairs = [(v, t) for t in tasks for v in volunteers]\n",
    "\n",
    "# One task can be assigned to one volunteer only\n",
    "for t in tasks:\n",
    "    model += lpSum(pair[v][t] for v in volunteers) == 1\n",
    "\n",
    "# All volunteers must be assigned at least one task  <-- superfluous constraint.  Model is \"trying\" to do this\n",
    "for v in volunteers:\n",
    "    model += lpSum(pair[v][t] for t in tasks) >= 1\n",
    "    #model += lpSum(pair[v][t] for t in tasks) <= 1\n",
    "\n",
    "\n",
    "\n",
    "# Volunteers cannot be assigned too high a work load \n",
    "for v in volunteers:\n",
    "    model += lpSum(pair[v][t] * task_time[t] for t in tasks) <= volunteer_max_tasks[v] + 0.2\n",
    "    \n",
    "# Volunteers cannot be assigned a task they didn't choose\n",
    "for v in volunteers:\n",
    "    for t in tasks:\n",
    "        if not (t in volunteer_choices[v]):\n",
    "            model += pair[v][t] == 0\n",
    "    \n",
    "# All tasks must get a volunteer (CAN I LOOSEN THIS?)  # This is where your infeasibility problem was\n",
    "for t in tasks:\n",
    "    model += (lpSum([pair[v][t] for v in volunteers]) >= 1)\n",
    "    model += (lpSum([pair[v][t] for v in volunteers]) <= 1)\n",
    "    \n",
    "diff = LpVariable.dicts('diff', indexs=volunteers, cat='Real')\n",
    "\n",
    "# constraint:  the \"positive\" difference side of the ABS\n",
    "for v in volunteers:\n",
    "    model += diff[v] >= \\\n",
    "               avg_task - lpSum(pair[v][t] * task_cnt[t] for t in tasks)/volunteers_time[v]\n",
    "\n",
    "# constraint:  the \"negative\" diff...\n",
    "for v in volunteers:\n",
    "    model += diff[v] >= \\\n",
    "               lpSum(pair[v][t] * task_cnt[t] for t in tasks)/volunteers_time[v]-avg_task\n",
    "\n",
    "# OBJ:  minimize the total diff (same as min avg diff)\n",
    "model += lpSum(diff[v] for v in volunteers)\n",
    "\n",
    "model.solve(PULP_CBC_CMD(msg=1, maxSeconds=20))\n",
    "\n",
    "task_df['worker'] = np.nan\n",
    "for v in sorted(volunteers):\n",
    "    for task in sorted(pair[v]):\n",
    "        if pair[v][task].varValue:\n",
    "            task_df.loc[task_df['task_name']==task,'worker']=v\n",
    "print(task_df.groupby('worker')['task_time'].sum())\n",
    "print(task_df.groupby(['worker'])['task_cnt'].sum())\n",
    "# print(task_df.groupby(['worker'])['region_name'].nunique().reset_index()['region_name'].sum())\n",
    "            "
   ]
  },
  {
   "cell_type": "code",
   "execution_count": 27,
   "id": "4b580752",
   "metadata": {},
   "outputs": [],
   "source": [
    "summ_df = task_df.groupby('worker').agg({\n",
    "    'task_time': 'sum',\n",
    "    'task_cnt':'sum'\n",
    "}).reset_index()"
   ]
  },
  {
   "cell_type": "code",
   "execution_count": 28,
   "id": "db8a5278",
   "metadata": {},
   "outputs": [],
   "source": [
    "summ_df['cnt_per_hr'] = summ_df['task_cnt']/summ_df['task_time']"
   ]
  },
  {
   "cell_type": "code",
   "execution_count": 29,
   "id": "cf8b1e19",
   "metadata": {},
   "outputs": [
    {
     "data": {
      "text/html": [
       "<div>\n",
       "<style scoped>\n",
       "    .dataframe tbody tr th:only-of-type {\n",
       "        vertical-align: middle;\n",
       "    }\n",
       "\n",
       "    .dataframe tbody tr th {\n",
       "        vertical-align: top;\n",
       "    }\n",
       "\n",
       "    .dataframe thead th {\n",
       "        text-align: right;\n",
       "    }\n",
       "</style>\n",
       "<table border=\"1\" class=\"dataframe\">\n",
       "  <thead>\n",
       "    <tr style=\"text-align: right;\">\n",
       "      <th></th>\n",
       "      <th>worker</th>\n",
       "      <th>task_time</th>\n",
       "      <th>task_cnt</th>\n",
       "      <th>cnt_per_hr</th>\n",
       "    </tr>\n",
       "  </thead>\n",
       "  <tbody>\n",
       "    <tr>\n",
       "      <th>0</th>\n",
       "      <td>W0</td>\n",
       "      <td>17.08</td>\n",
       "      <td>7185</td>\n",
       "      <td>420.667447</td>\n",
       "    </tr>\n",
       "    <tr>\n",
       "      <th>1</th>\n",
       "      <td>W1</td>\n",
       "      <td>23.20</td>\n",
       "      <td>9720</td>\n",
       "      <td>418.965517</td>\n",
       "    </tr>\n",
       "    <tr>\n",
       "      <th>2</th>\n",
       "      <td>W2</td>\n",
       "      <td>16.90</td>\n",
       "      <td>7193</td>\n",
       "      <td>425.621302</td>\n",
       "    </tr>\n",
       "    <tr>\n",
       "      <th>3</th>\n",
       "      <td>W3</td>\n",
       "      <td>23.29</td>\n",
       "      <td>9715</td>\n",
       "      <td>417.131816</td>\n",
       "    </tr>\n",
       "    <tr>\n",
       "      <th>4</th>\n",
       "      <td>W4</td>\n",
       "      <td>20.04</td>\n",
       "      <td>8447</td>\n",
       "      <td>421.506986</td>\n",
       "    </tr>\n",
       "  </tbody>\n",
       "</table>\n",
       "</div>"
      ],
      "text/plain": [
       "  worker  task_time  task_cnt  cnt_per_hr\n",
       "0     W0      17.08      7185  420.667447\n",
       "1     W1      23.20      9720  418.965517\n",
       "2     W2      16.90      7193  425.621302\n",
       "3     W3      23.29      9715  417.131816\n",
       "4     W4      20.04      8447  421.506986"
      ]
     },
     "execution_count": 29,
     "metadata": {},
     "output_type": "execute_result"
    }
   ],
   "source": [
    "summ_df"
   ]
  },
  {
   "cell_type": "code",
   "execution_count": null,
   "id": "fd047b6e",
   "metadata": {},
   "outputs": [],
   "source": []
  },
  {
   "cell_type": "code",
   "execution_count": null,
   "id": "87c1638d",
   "metadata": {},
   "outputs": [],
   "source": []
  }
 ],
 "metadata": {
  "kernelspec": {
   "display_name": "Python 3",
   "language": "python",
   "name": "python3"
  },
  "language_info": {
   "codemirror_mode": {
    "name": "ipython",
    "version": 3
   },
   "file_extension": ".py",
   "mimetype": "text/x-python",
   "name": "python",
   "nbconvert_exporter": "python",
   "pygments_lexer": "ipython3",
   "version": "3.6.13"
  },
  "toc": {
   "base_numbering": 1,
   "nav_menu": {},
   "number_sections": true,
   "sideBar": true,
   "skip_h1_title": false,
   "title_cell": "Table of Contents",
   "title_sidebar": "Contents",
   "toc_cell": false,
   "toc_position": {},
   "toc_section_display": true,
   "toc_window_display": false
  },
  "varInspector": {
   "cols": {
    "lenName": 16,
    "lenType": 16,
    "lenVar": 40
   },
   "kernels_config": {
    "python": {
     "delete_cmd_postfix": "",
     "delete_cmd_prefix": "del ",
     "library": "var_list.py",
     "varRefreshCmd": "print(var_dic_list())"
    },
    "r": {
     "delete_cmd_postfix": ") ",
     "delete_cmd_prefix": "rm(",
     "library": "var_list.r",
     "varRefreshCmd": "cat(var_dic_list()) "
    }
   },
   "types_to_exclude": [
    "module",
    "function",
    "builtin_function_or_method",
    "instance",
    "_Feature"
   ],
   "window_display": false
  }
 },
 "nbformat": 4,
 "nbformat_minor": 5
}
